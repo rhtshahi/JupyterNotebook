{
 "cells": [
  {
   "cell_type": "markdown",
   "id": "eaf00207-9b0f-4107-be38-db14250ce6f1",
   "metadata": {},
   "source": [
    "# Data Science Tools and Ecosystem"
   ]
  },
  {
   "cell_type": "markdown",
   "id": "4acadcfa-d754-4745-9a34-e25473847ae3",
   "metadata": {},
   "source": [
    "In this notebook Data Science Tools and Ecosystem are summarized."
   ]
  },
  {
   "cell_type": "markdown",
   "id": "9d118529-caa0-4129-b683-ba8b91ee4917",
   "metadata": {},
   "source": [
    "**Objectives:**\n",
    "\n",
    "- List popular languages for Data Science\n",
    "- Commonly used libraries\n",
    "- Basic Arethmetic"
   ]
  },
  {
   "cell_type": "markdown",
   "id": "ab92f872-a638-4184-804f-7465452f7a06",
   "metadata": {},
   "source": [
    "Some of the popular language that Data Scientists use are:\n",
    "\n",
    "1. Python\n",
    "2. R\n",
    "3. SQL"
   ]
  },
  {
   "cell_type": "markdown",
   "id": "1eed28d7-f8cb-462a-85cd-8d5b113fbb86",
   "metadata": {},
   "source": [
    "Some of the commonly used libraries used by Data Scientists include:\n",
    "\n",
    "1. NumPy\n",
    "2. Pandas\n",
    "3. Matplotlib"
   ]
  },
  {
   "cell_type": "markdown",
   "id": "75d63451-24ea-4ff1-b1a9-efc523c1e0eb",
   "metadata": {},
   "source": [
    "|Data Science Tools|\n",
    "|---|\n",
    "|Jupyter Notebooks|\n",
    "|RStudio|\n",
    "|Jupyter Lab|"
   ]
  },
  {
   "cell_type": "markdown",
   "id": "6cefbd39-ba1f-498e-84b1-1a19fed38b7a",
   "metadata": {},
   "source": [
    "### Below are a few examples of evaluating arithmetic expressions in Python"
   ]
  },
  {
   "cell_type": "code",
   "execution_count": 1,
   "id": "da662bc2-ada1-4a9d-8e78-233d64de5299",
   "metadata": {
    "tags": []
   },
   "outputs": [
    {
     "data": {
      "text/plain": [
       "17"
      ]
     },
     "execution_count": 1,
     "metadata": {},
     "output_type": "execute_result"
    }
   ],
   "source": [
    "# This a simple arithmetic expression to mutiply then add integers\n",
    "(3*4)+5"
   ]
  },
  {
   "cell_type": "code",
   "execution_count": 2,
   "id": "089011d3-9f0b-47f1-a328-dd05cc3b4b50",
   "metadata": {
    "tags": []
   },
   "outputs": [
    {
     "name": "stdout",
     "output_type": "stream",
     "text": [
      "200  minutes is equal to  3.3333333333333335  hours.\n"
     ]
    }
   ],
   "source": [
    "# This will convert 200 minutes to hours by diving by 60\n",
    "\n",
    "min = 200\n",
    "hr = min/60\n",
    "print(min, ' minutes is equal to ', hr, ' hours.')"
   ]
  },
  {
   "cell_type": "markdown",
   "id": "4f08885c-83a8-4e06-9dce-8f53f3d7d55a",
   "metadata": {
    "tags": []
   },
   "source": [
    "## Author\n",
    "Rohit Shahi"
   ]
  }
 ],
 "metadata": {
  "kernelspec": {
   "display_name": "Python",
   "language": "python",
   "name": "conda-env-python-py"
  },
  "language_info": {
   "codemirror_mode": {
    "name": "ipython",
    "version": 3
   },
   "file_extension": ".py",
   "mimetype": "text/x-python",
   "name": "python",
   "nbconvert_exporter": "python",
   "pygments_lexer": "ipython3",
   "version": "3.7.12"
  }
 },
 "nbformat": 4,
 "nbformat_minor": 5
}
